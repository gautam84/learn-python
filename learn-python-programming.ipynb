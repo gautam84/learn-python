{
 "cells": [
  {
   "cell_type": "markdown",
   "id": "16044fad",
   "metadata": {
    "papermill": {
     "duration": 0.005267,
     "end_time": "2025-05-04T19:34:10.112522",
     "exception": false,
     "start_time": "2025-05-04T19:34:10.107255",
     "status": "completed"
    },
    "tags": []
   },
   "source": [
    "# Learn Python Programming"
   ]
  },
  {
   "cell_type": "code",
   "execution_count": 1,
   "id": "07d20e6b",
   "metadata": {
    "execution": {
     "iopub.execute_input": "2025-05-04T19:34:10.122506Z",
     "iopub.status.busy": "2025-05-04T19:34:10.121866Z",
     "iopub.status.idle": "2025-05-04T19:34:10.134319Z",
     "shell.execute_reply": "2025-05-04T19:34:10.132899Z"
    },
    "papermill": {
     "duration": 0.020325,
     "end_time": "2025-05-04T19:34:10.137034",
     "exception": false,
     "start_time": "2025-05-04T19:34:10.116709",
     "status": "completed"
    },
    "tags": []
   },
   "outputs": [
    {
     "name": "stdout",
     "output_type": "stream",
     "text": [
      "Hello World!\n"
     ]
    }
   ],
   "source": [
    "print(\"Hello World!\")"
   ]
  },
  {
   "cell_type": "markdown",
   "id": "c0815bbf",
   "metadata": {
    "papermill": {
     "duration": 0.004697,
     "end_time": "2025-05-04T19:34:10.146749",
     "exception": false,
     "start_time": "2025-05-04T19:34:10.142052",
     "status": "completed"
    },
    "tags": []
   },
   "source": [
    "### 1. Loops"
   ]
  },
  {
   "cell_type": "code",
   "execution_count": 2,
   "id": "9d1f6a99",
   "metadata": {
    "execution": {
     "iopub.execute_input": "2025-05-04T19:34:10.157269Z",
     "iopub.status.busy": "2025-05-04T19:34:10.156614Z",
     "iopub.status.idle": "2025-05-04T19:34:10.164353Z",
     "shell.execute_reply": "2025-05-04T19:34:10.163055Z"
    },
    "papermill": {
     "duration": 0.015452,
     "end_time": "2025-05-04T19:34:10.166240",
     "exception": false,
     "start_time": "2025-05-04T19:34:10.150788",
     "status": "completed"
    },
    "tags": []
   },
   "outputs": [
    {
     "name": "stdout",
     "output_type": "stream",
     "text": [
      "Printing the 1th element.\n",
      "Printing the 2th element.\n",
      "Printing the 3th element.\n",
      "Printing the 4th element.\n"
     ]
    }
   ],
   "source": [
    "# a. while loop\n",
    "\n",
    "count = 0\n",
    "while(count < 4):\n",
    "    count += 1\n",
    "    print(f\"Printing the {count}th element.\")\n",
    "\n"
   ]
  },
  {
   "cell_type": "code",
   "execution_count": 3,
   "id": "3e399d44",
   "metadata": {
    "execution": {
     "iopub.execute_input": "2025-05-04T19:34:10.176422Z",
     "iopub.status.busy": "2025-05-04T19:34:10.176098Z",
     "iopub.status.idle": "2025-05-04T19:34:10.183127Z",
     "shell.execute_reply": "2025-05-04T19:34:10.181941Z"
    },
    "papermill": {
     "duration": 0.0143,
     "end_time": "2025-05-04T19:34:10.184867",
     "exception": false,
     "start_time": "2025-05-04T19:34:10.170567",
     "status": "completed"
    },
    "tags": []
   },
   "outputs": [
    {
     "name": "stdout",
     "output_type": "stream",
     "text": [
      "Printing the 0th element.\n",
      "Printing the 1th element.\n",
      "Printing the 2th element.\n",
      "Printing the 3th element.\n",
      "Nothing to print\n"
     ]
    }
   ],
   "source": [
    "# b. while... else loop\n",
    "\n",
    "count = 0\n",
    "while(count < 4):\n",
    "    print(f\"Printing the {count}th element.\")\n",
    "    count += 1\n",
    "else:\n",
    "    print(\"Nothing to print\")\n"
   ]
  },
  {
   "cell_type": "code",
   "execution_count": 4,
   "id": "f7d04b2b",
   "metadata": {
    "execution": {
     "iopub.execute_input": "2025-05-04T19:34:10.194981Z",
     "iopub.status.busy": "2025-05-04T19:34:10.194612Z",
     "iopub.status.idle": "2025-05-04T19:34:10.202502Z",
     "shell.execute_reply": "2025-05-04T19:34:10.201204Z"
    },
    "papermill": {
     "duration": 0.014911,
     "end_time": "2025-05-04T19:34:10.204252",
     "exception": false,
     "start_time": "2025-05-04T19:34:10.189341",
     "status": "completed"
    },
    "tags": []
   },
   "outputs": [
    {
     "name": "stdout",
     "output_type": "stream",
     "text": [
      "Printing the 0th element.\n",
      "Printing the 1th element.\n",
      "Printing the 2th element.\n",
      "Printing the 3th element.\n",
      "Printing the 4th element.\n",
      "\n",
      "\n",
      "\n",
      "Printing the 2th element.\n",
      "Printing the 3th element.\n",
      "Printing the 4th element.\n",
      "\n",
      "\n",
      "\n",
      "Printing the 0th element.\n",
      "Printing the 2th element.\n",
      "Printing the 4th element.\n",
      "Printing the 6th element.\n",
      "Printing the 8th element.\n"
     ]
    }
   ],
   "source": [
    "# c. for loop\n",
    "\n",
    "for i in range(5):\n",
    "    print(f\"Printing the {i}th element.\")\n",
    "\n",
    "print(\"\\n\\n\")\n",
    "\n",
    "for i in range(2, 5):\n",
    "    print(f\"Printing the {i}th element.\")\n",
    "\n",
    "print(\"\\n\\n\")\n",
    "\n",
    "\n",
    "for i in range(0, 10, 2):\n",
    "    print(f\"Printing the {i}th element.\")\n"
   ]
  },
  {
   "cell_type": "code",
   "execution_count": 5,
   "id": "c34e703e",
   "metadata": {
    "execution": {
     "iopub.execute_input": "2025-05-04T19:34:10.215518Z",
     "iopub.status.busy": "2025-05-04T19:34:10.215182Z",
     "iopub.status.idle": "2025-05-04T19:34:10.223688Z",
     "shell.execute_reply": "2025-05-04T19:34:10.222323Z"
    },
    "papermill": {
     "duration": 0.015262,
     "end_time": "2025-05-04T19:34:10.225371",
     "exception": false,
     "start_time": "2025-05-04T19:34:10.210109",
     "status": "completed"
    },
    "tags": []
   },
   "outputs": [
    {
     "name": "stdout",
     "output_type": "stream",
     "text": [
      "The required item is Cake.\n",
      "The required item is Sandwich.\n",
      "The required item is Burger.\n",
      "The required item is Tea.\n",
      "\n",
      "\n",
      "\n",
      "The 0th element is: Cake\n",
      "The 1th element is: Sandwich\n",
      "The 2th element is: Burger\n",
      "The 3th element is: Tea\n",
      "\n",
      "\n",
      "\n",
      "The required item is Mark.\n",
      "The required item is Spencer.\n",
      "The required item is Douglas.\n",
      "The required item is Raymond.\n",
      "\n",
      "\n",
      "\n",
      "G\n",
      "e\n",
      "e\n",
      "k\n",
      "s\n",
      "\n",
      "\n",
      "\n",
      "x  123\n",
      "y  354\n",
      "\n",
      "\n",
      "\n",
      "1\n",
      "2\n",
      "3\n",
      "4\n",
      "5\n",
      "6\n"
     ]
    }
   ],
   "source": [
    "# iterating with for loop\n",
    "\n",
    "items = [\"Cake\", \"Sandwich\", \"Burger\", \"Tea\"]\n",
    "\n",
    "for i in items:\n",
    "    print(f\"The required item is {i}.\")\n",
    "\n",
    "print(\"\\n\\n\")\n",
    "\n",
    "for index in range(len(items)):\n",
    "    print(f\"The {index}th element is: {items[index]}\")\n",
    "\n",
    "print(\"\\n\\n\")\n",
    "\n",
    "names = (\"Mark\", \"Spencer\", \"Douglas\", \"Raymond\")\n",
    "\n",
    "for i in names:\n",
    "    print(f\"The required item is {i}.\")\n",
    "\n",
    "print(\"\\n\\n\")\n",
    "\n",
    "s = \"Geeks\"\n",
    "for i in s:\n",
    "    print(i)\n",
    "\n",
    "print(\"\\n\\n\")\n",
    "\n",
    "    \n",
    "d = dict({'x':123, 'y':354})\n",
    "for i in d:\n",
    "    print(\"%s  %d\" % (i, d[i]))\n",
    "\n",
    "print(\"\\n\\n\")\n",
    "\n",
    "    \n",
    "set1 = {1, 2, 3, 4, 5, 6}\n",
    "for i in set1:\n",
    "    print(i),\n"
   ]
  },
  {
   "cell_type": "code",
   "execution_count": 6,
   "id": "3acd5c39",
   "metadata": {
    "execution": {
     "iopub.execute_input": "2025-05-04T19:34:10.234960Z",
     "iopub.status.busy": "2025-05-04T19:34:10.234632Z",
     "iopub.status.idle": "2025-05-04T19:34:10.240028Z",
     "shell.execute_reply": "2025-05-04T19:34:10.238868Z"
    },
    "papermill": {
     "duration": 0.011779,
     "end_time": "2025-05-04T19:34:10.241358",
     "exception": false,
     "start_time": "2025-05-04T19:34:10.229579",
     "status": "completed"
    },
    "tags": []
   },
   "outputs": [
    {
     "name": "stdout",
     "output_type": "stream",
     "text": [
      "0\n",
      "1\n",
      "2\n",
      "3\n",
      "4\n",
      "5\n",
      "6\n",
      "7\n",
      "8\n",
      "9\n",
      "End of for\n"
     ]
    }
   ],
   "source": [
    "# d. for with else\n",
    "\n",
    "for i in range(10):\n",
    "    print(i)\n",
    "\n",
    "else:\n",
    "    print(\"End of for\")"
   ]
  },
  {
   "cell_type": "code",
   "execution_count": 7,
   "id": "fbf1f0a6",
   "metadata": {
    "execution": {
     "iopub.execute_input": "2025-05-04T19:34:10.251103Z",
     "iopub.status.busy": "2025-05-04T19:34:10.250779Z",
     "iopub.status.idle": "2025-05-04T19:34:10.259033Z",
     "shell.execute_reply": "2025-05-04T19:34:10.256431Z"
    },
    "papermill": {
     "duration": 0.015615,
     "end_time": "2025-05-04T19:34:10.261312",
     "exception": false,
     "start_time": "2025-05-04T19:34:10.245697",
     "status": "completed"
    },
    "tags": []
   },
   "outputs": [
    {
     "name": "stdout",
     "output_type": "stream",
     "text": [
      "0\n",
      "1\n",
      "2\n",
      "3\n",
      "4\n",
      "\n",
      "\n",
      "\n",
      "0\n",
      "1\n",
      "2\n",
      "4\n",
      "\n",
      "\n",
      "\n",
      "0\n",
      "1\n",
      "2\n",
      "4\n"
     ]
    }
   ],
   "source": [
    "# break, continue and pass\n",
    "\n",
    "for i in range(10):\n",
    "    if i == 5:\n",
    "        break  \n",
    "    print(i)\n",
    "\n",
    "print(\"\\n\\n\")\n",
    "\n",
    "for i in range(5):\n",
    "    if i == 3:\n",
    "        continue \n",
    "    print(i)\n",
    "\n",
    "print(\"\\n\\n\")\n",
    "\n",
    "for i in range(5):\n",
    "    if i == 3:\n",
    "        pass  \n",
    "    else:\n",
    "        print(i)"
   ]
  },
  {
   "cell_type": "markdown",
   "id": "72ff0e00",
   "metadata": {
    "papermill": {
     "duration": 0.00418,
     "end_time": "2025-05-04T19:34:10.270245",
     "exception": false,
     "start_time": "2025-05-04T19:34:10.266065",
     "status": "completed"
    },
    "tags": []
   },
   "source": [
    "### 2. Conditional Statements"
   ]
  },
  {
   "cell_type": "code",
   "execution_count": 8,
   "id": "cd4bcd72",
   "metadata": {
    "execution": {
     "iopub.execute_input": "2025-05-04T19:34:10.281718Z",
     "iopub.status.busy": "2025-05-04T19:34:10.281368Z",
     "iopub.status.idle": "2025-05-04T19:34:10.291529Z",
     "shell.execute_reply": "2025-05-04T19:34:10.290218Z"
    },
    "papermill": {
     "duration": 0.019129,
     "end_time": "2025-05-04T19:34:10.294024",
     "exception": false,
     "start_time": "2025-05-04T19:34:10.274895",
     "status": "completed"
    },
    "tags": []
   },
   "outputs": [
    {
     "name": "stdout",
     "output_type": "stream",
     "text": [
      "5 is greater than 2.\n",
      "\n",
      "\n",
      "5 is less than 2.\n",
      "\n",
      "\n",
      "Name's length is not defined\n",
      "\n",
      "\n",
      "Result: Pass\n",
      "\n",
      "\n",
      "Two or Three\n",
      "\n",
      "\n",
      "Other number\n"
     ]
    }
   ],
   "source": [
    "num = 5\n",
    "\n",
    "if num > 2:\n",
    "    print(f\"{num} is greater than 2.\")\n",
    "\n",
    "print(\"\\n\")\n",
    "\n",
    "if num > 7:\n",
    "    print(f\"{num} is greater than 2.\")\n",
    "else:\n",
    "    print(f\"{num} is less than 2.\")\n",
    "\n",
    "print(\"\\n\")\n",
    "\n",
    "name = \"Gautam\"\n",
    "\n",
    "if len(name) == 3:\n",
    "    print(\"Name's length is 3\")\n",
    "elif len(name) == 5:\n",
    "    print(\"Name's length is 5\")\n",
    "else:\n",
    "    print(\"Name's length is not defined\")\n",
    "    \n",
    "print(\"\\n\")\n",
    "\n",
    "marks = 45\n",
    "res = \"Pass\" if marks >= 40 else \"Fail\"\n",
    "\n",
    "print(f\"Result: {res}\")\n",
    "    \n",
    "number = 2\n",
    "print(\"\\n\")\n",
    "\n",
    "match number:\n",
    "    case 1:\n",
    "        print(\"One\")\n",
    "    case 2 | 3:\n",
    "        print(\"Two or Three\")\n",
    "    case _:\n",
    "        print(\"Other number\")\n",
    "\n",
    "print(\"\\n\")\n",
    "\n",
    "new = \"WhatsApp\"\n",
    "\n",
    "match len(new):\n",
    "    case 1:\n",
    "        print(\"One\")\n",
    "    case 2 | 3:\n",
    "        print(\"Two or Three\")\n",
    "    case _:\n",
    "        print(\"Other number\")\n",
    "        \n",
    "    \n"
   ]
  },
  {
   "cell_type": "markdown",
   "id": "59c61512",
   "metadata": {
    "papermill": {
     "duration": 0.004466,
     "end_time": "2025-05-04T19:34:10.304211",
     "exception": false,
     "start_time": "2025-05-04T19:34:10.299745",
     "status": "completed"
    },
    "tags": []
   },
   "source": [
    "### 3. OOPs"
   ]
  },
  {
   "cell_type": "code",
   "execution_count": 9,
   "id": "ece93d2f",
   "metadata": {
    "execution": {
     "iopub.execute_input": "2025-05-04T19:34:10.316151Z",
     "iopub.status.busy": "2025-05-04T19:34:10.315788Z",
     "iopub.status.idle": "2025-05-04T19:34:10.323815Z",
     "shell.execute_reply": "2025-05-04T19:34:10.322514Z"
    },
    "papermill": {
     "duration": 0.015748,
     "end_time": "2025-05-04T19:34:10.325438",
     "exception": false,
     "start_time": "2025-05-04T19:34:10.309690",
     "status": "completed"
    },
    "tags": []
   },
   "outputs": [
    {
     "name": "stdout",
     "output_type": "stream",
     "text": [
      "Space Torgo\n",
      "2 1\n",
      "Canine\n",
      "Canine\n"
     ]
    }
   ],
   "source": [
    "class Dog:\n",
    "    species = \"Canine\"  \n",
    "\n",
    "    def __init__(self, name, age):\n",
    "        self.name = name  \n",
    "        self.age = age \n",
    "\n",
    "dog1 = Dog(\"Space\", 2)\n",
    "dog2 = Dog(\"Torgo\", 1)\n",
    "\n",
    "print(dog1.name, dog2.name)\n",
    "print(dog1.age, dog2.age)\n",
    "print(Dog.species)\n",
    "print(dog1.species)\n",
    "\n"
   ]
  },
  {
   "cell_type": "code",
   "execution_count": 10,
   "id": "039cd49e",
   "metadata": {
    "execution": {
     "iopub.execute_input": "2025-05-04T19:34:10.337231Z",
     "iopub.status.busy": "2025-05-04T19:34:10.336761Z",
     "iopub.status.idle": "2025-05-04T19:34:10.344914Z",
     "shell.execute_reply": "2025-05-04T19:34:10.343639Z"
    },
    "papermill": {
     "duration": 0.016865,
     "end_time": "2025-05-04T19:34:10.347039",
     "exception": false,
     "start_time": "2025-05-04T19:34:10.330174",
     "status": "completed"
    },
    "tags": []
   },
   "outputs": [
    {
     "name": "stdout",
     "output_type": "stream",
     "text": [
      "Lika Tom\n",
      "2 1\n",
      "Dog Cat\n",
      "Organic\n"
     ]
    }
   ],
   "source": [
    "class Animal:\n",
    "    HType=\"Organic\"\n",
    "    \n",
    "    def __init__(self, name, age, species):\n",
    "        self.name = name\n",
    "        self.age = age\n",
    "        self.species = species\n",
    "        \n",
    "animal1 = Animal(\"Lika\", 2, \"Dog\")\n",
    "animal2 = Animal(\"Tom\", 1, \"Cat\")\n",
    "\n",
    "print(animal1.name, animal2.name)\n",
    "print(animal1.age, animal2.age)\n",
    "print(animal1.species, animal2.species)\n",
    "print(Animal.HType)"
   ]
  },
  {
   "cell_type": "code",
   "execution_count": 11,
   "id": "c8d4df70",
   "metadata": {
    "execution": {
     "iopub.execute_input": "2025-05-04T19:34:10.358527Z",
     "iopub.status.busy": "2025-05-04T19:34:10.358158Z",
     "iopub.status.idle": "2025-05-04T19:34:10.367928Z",
     "shell.execute_reply": "2025-05-04T19:34:10.366310Z"
    },
    "papermill": {
     "duration": 0.017364,
     "end_time": "2025-05-04T19:34:10.369723",
     "exception": false,
     "start_time": "2025-05-04T19:34:10.352359",
     "status": "completed"
    },
    "tags": []
   },
   "outputs": [
    {
     "name": "stdout",
     "output_type": "stream",
     "text": [
      "Dog's Name: Buddy\n",
      "Labrador woofs\n",
      "Dog's Name: Max\n",
      "MaxGuides the way!\n",
      "Dog's Name: Charlie\n",
      "Friendly!\n",
      "Golden Retriever Barks\n"
     ]
    }
   ],
   "source": [
    "# Single Inheritance\n",
    "class Dog:\n",
    "    def __init__(self, name):\n",
    "        self.name = name\n",
    "\n",
    "    def display_name(self):\n",
    "        print(f\"Dog's Name: {self.name}\")\n",
    "\n",
    "class Labrador(Dog):  # Single Inheritance\n",
    "    def sound(self):\n",
    "        print(\"Labrador woofs\")\n",
    "\n",
    "# Multilevel Inheritance\n",
    "class GuideDog(Labrador):  \n",
    "    def guide(self):\n",
    "        print(f\"{self.name}Guides the way!\")\n",
    "\n",
    "# Multiple Inheritance\n",
    "class Friendly:\n",
    "    def greet(self):\n",
    "        print(\"Friendly!\")\n",
    "\n",
    "class GoldenRetriever(Dog, Friendly):  # Multiple Inheritance\n",
    "    def sound(self):\n",
    "        print(\"Golden Retriever Barks\")\n",
    "\n",
    "# Example Usage\n",
    "lab = Labrador(\"Buddy\")\n",
    "lab.display_name()\n",
    "lab.sound()\n",
    "\n",
    "guide_dog = GuideDog(\"Max\")\n",
    "guide_dog.display_name()\n",
    "guide_dog.guide()\n",
    "\n",
    "retriever = GoldenRetriever(\"Charlie\")\n",
    "retriever.display_name()\n",
    "retriever.greet()\n",
    "retriever.sound()"
   ]
  },
  {
   "cell_type": "code",
   "execution_count": 12,
   "id": "e1680e33",
   "metadata": {
    "execution": {
     "iopub.execute_input": "2025-05-04T19:34:10.380934Z",
     "iopub.status.busy": "2025-05-04T19:34:10.380650Z",
     "iopub.status.idle": "2025-05-04T19:34:10.390372Z",
     "shell.execute_reply": "2025-05-04T19:34:10.388947Z"
    },
    "papermill": {
     "duration": 0.01741,
     "end_time": "2025-05-04T19:34:10.392052",
     "exception": false,
     "start_time": "2025-05-04T19:34:10.374642",
     "status": "completed"
    },
    "tags": []
   },
   "outputs": [
    {
     "name": "stdout",
     "output_type": "stream",
     "text": [
      "Bee's Name: Sam\n",
      "\n",
      "\n",
      "Bee's Name: John\n",
      "John worker bee works.\n",
      "\n",
      "\n",
      "Laura queen bee works.\n",
      "Heen bee of age 4 is a baby.\n"
     ]
    }
   ],
   "source": [
    "class Bee:\n",
    "    def __init__(self, name):\n",
    "        self.name = name\n",
    "\n",
    "    def display_name(self):\n",
    "        print(f\"Bee's Name: {self.name}\")\n",
    "\n",
    "class WorkerBee(Bee):\n",
    "    def work(self):\n",
    "        print(f\"{self.name} worker bee works.\")\n",
    "\n",
    "class QueenBee(WorkerBee):\n",
    "    def work(self):\n",
    "        print(f\"{self.name} queen bee works.\")\n",
    "\n",
    "class Type:\n",
    "   def __init__(self, age):\n",
    "      self.age = age\n",
    "\n",
    "\n",
    "class Larva(Type, QueenBee):\n",
    "\n",
    "   def __init__(self, tag, name, age):\n",
    "       Type.__init__(self, age)\n",
    "       QueenBee.__init__(self, name)\n",
    "       self.tag = tag\n",
    "       \n",
    "    \n",
    "       \n",
    "   def work(self):\n",
    "     print(f\"{self.name} bee of age {self.age} is a baby.\")\n",
    "\n",
    "\n",
    "bee1 = Bee(\"Sam\")\n",
    "bee1.display_name()\n",
    "\n",
    "print(\"\\n\")\n",
    "\n",
    "bee2 = WorkerBee(\"John\")\n",
    "bee2.display_name()\n",
    "bee2.work()\n",
    "\n",
    "print(\"\\n\")\n",
    "\n",
    "bee3 = QueenBee(\"Laura\")\n",
    "bee3.work()\n",
    "\n",
    "bee4 = Larva(\"xt\",\"Heen\", 4)\n",
    "bee4.work()\n",
    "\n",
    "        \n",
    "    \n",
    "    "
   ]
  },
  {
   "cell_type": "code",
   "execution_count": 13,
   "id": "7ac9e687",
   "metadata": {
    "execution": {
     "iopub.execute_input": "2025-05-04T19:34:10.403514Z",
     "iopub.status.busy": "2025-05-04T19:34:10.403098Z",
     "iopub.status.idle": "2025-05-04T19:34:10.410990Z",
     "shell.execute_reply": "2025-05-04T19:34:10.409869Z"
    },
    "papermill": {
     "duration": 0.015801,
     "end_time": "2025-05-04T19:34:10.412834",
     "exception": false,
     "start_time": "2025-05-04T19:34:10.397033",
     "status": "completed"
    },
    "tags": []
   },
   "outputs": [
    {
     "name": "stdout",
     "output_type": "stream",
     "text": [
      "dog sound\n",
      "Labrador woofs\n",
      "Beagle Barks\n",
      "15\n",
      "30\n"
     ]
    }
   ],
   "source": [
    "# Parent Class\n",
    "class Dog:\n",
    "    def sound(self):\n",
    "        print(\"dog sound\")  # Default implementation\n",
    "\n",
    "# Run-Time Polymorphism: Method Overriding\n",
    "class Labrador(Dog):\n",
    "    def sound(self):\n",
    "        print(\"Labrador woofs\")  # Overriding parent method\n",
    "\n",
    "class Beagle(Dog):\n",
    "    def sound(self):\n",
    "        print(\"Beagle Barks\")  # Overriding parent method\n",
    "\n",
    "# Compile-Time Polymorphism: Method Overloading Mimic\n",
    "class Calculator:\n",
    "    def add(self, a, b=0, c=0):\n",
    "        return a + b + c  # Supports multiple ways to call add()\n",
    "\n",
    "# Run-Time Polymorphism\n",
    "dogs = [Dog(), Labrador(), Beagle()]\n",
    "for dog in dogs:\n",
    "    dog.sound()  # Calls the appropriate method based on the object type\n",
    "\n",
    "\n",
    "# Compile-Time Polymorphism (Mimicked using default arguments)\n",
    "calc = Calculator()\n",
    "print(calc.add(5, 10))  # Two arguments\n",
    "print(calc.add(5, 10, 15))  # Three arguments"
   ]
  },
  {
   "cell_type": "code",
   "execution_count": 14,
   "id": "f02ae607",
   "metadata": {
    "execution": {
     "iopub.execute_input": "2025-05-04T19:34:10.423033Z",
     "iopub.status.busy": "2025-05-04T19:34:10.422768Z",
     "iopub.status.idle": "2025-05-04T19:34:10.429769Z",
     "shell.execute_reply": "2025-05-04T19:34:10.428744Z"
    },
    "papermill": {
     "duration": 0.014069,
     "end_time": "2025-05-04T19:34:10.431302",
     "exception": false,
     "start_time": "2025-05-04T19:34:10.417233",
     "status": "completed"
    },
    "tags": []
   },
   "outputs": [
    {
     "name": "stdout",
     "output_type": "stream",
     "text": [
      "Buddy\n",
      "Labrador\n",
      "3\n",
      "Name: Buddy, Breed: Labrador, Age: 5\n"
     ]
    }
   ],
   "source": [
    "class Dog:\n",
    "    def __init__(self, name, breed, age):\n",
    "        self.name = name  # Public attribute\n",
    "        self._breed = breed  # Protected attribute\n",
    "        self.__age = age  # Private attribute\n",
    "\n",
    "    # Public method\n",
    "    def get_info(self):\n",
    "        return f\"Name: {self.name}, Breed: {self._breed}, Age: {self.__age}\"\n",
    "\n",
    "    # Getter and Setter for private attribute\n",
    "    def get_age(self):\n",
    "        return self.__age\n",
    "\n",
    "    def set_age(self, age):\n",
    "        if age > 0:\n",
    "            self.__age = age\n",
    "        else:\n",
    "            print(\"Invalid age!\")\n",
    "\n",
    "# Example Usage\n",
    "dog = Dog(\"Buddy\", \"Labrador\", 3)\n",
    "\n",
    "# Accessing public member\n",
    "print(dog.name)  # Accessible\n",
    "\n",
    "# Accessing protected member\n",
    "print(dog._breed)  # Accessible but discouraged outside the class\n",
    "\n",
    "# Accessing private member using getter\n",
    "print(dog.get_age())\n",
    "\n",
    "# Modifying private member using setter\n",
    "dog.set_age(5)\n",
    "print(dog.get_info())"
   ]
  },
  {
   "cell_type": "code",
   "execution_count": 15,
   "id": "253bd0ca",
   "metadata": {
    "execution": {
     "iopub.execute_input": "2025-05-04T19:34:10.441804Z",
     "iopub.status.busy": "2025-05-04T19:34:10.441486Z",
     "iopub.status.idle": "2025-05-04T19:34:10.448790Z",
     "shell.execute_reply": "2025-05-04T19:34:10.447759Z"
    },
    "papermill": {
     "duration": 0.014711,
     "end_time": "2025-05-04T19:34:10.450622",
     "exception": false,
     "start_time": "2025-05-04T19:34:10.435911",
     "status": "completed"
    },
    "tags": []
   },
   "outputs": [
    {
     "name": "stdout",
     "output_type": "stream",
     "text": [
      "Dog's Name: Buddy\n",
      "Labrador Woof!\n",
      "Dog's Name: Charlie\n",
      "Beagle Bark!\n"
     ]
    }
   ],
   "source": [
    "from abc import ABC, abstractmethod\n",
    "\n",
    "class Dog(ABC):  # Abstract Class\n",
    "    def __init__(self, name):\n",
    "        self.name = name\n",
    "\n",
    "    @abstractmethod\n",
    "    def sound(self):  # Abstract Method\n",
    "        pass\n",
    "\n",
    "    def display_name(self):  # Concrete Method\n",
    "        print(f\"Dog's Name: {self.name}\")\n",
    "\n",
    "class Labrador(Dog):  # Partial Abstraction\n",
    "    def sound(self):\n",
    "        print(\"Labrador Woof!\")\n",
    "\n",
    "class Beagle(Dog):  # Partial Abstraction\n",
    "    def sound(self):\n",
    "        print(\"Beagle Bark!\")\n",
    "\n",
    "# Example Usage\n",
    "dogs = [Labrador(\"Buddy\"), Beagle(\"Charlie\")]\n",
    "for dog in dogs:\n",
    "    dog.display_name()  # Calls concrete method\n",
    "    dog.sound()  # Calls implemented abstract method"
   ]
  }
 ],
 "metadata": {
  "kaggle": {
   "accelerator": "none",
   "dataSources": [],
   "dockerImageVersionId": 31012,
   "isGpuEnabled": false,
   "isInternetEnabled": true,
   "language": "python",
   "sourceType": "notebook"
  },
  "kernelspec": {
   "display_name": "Python 3",
   "language": "python",
   "name": "python3"
  },
  "language_info": {
   "codemirror_mode": {
    "name": "ipython",
    "version": 3
   },
   "file_extension": ".py",
   "mimetype": "text/x-python",
   "name": "python",
   "nbconvert_exporter": "python",
   "pygments_lexer": "ipython3",
   "version": "3.11.11"
  },
  "papermill": {
   "default_parameters": {},
   "duration": 6.120397,
   "end_time": "2025-05-04T19:34:10.875552",
   "environment_variables": {},
   "exception": null,
   "input_path": "__notebook__.ipynb",
   "output_path": "__notebook__.ipynb",
   "parameters": {},
   "start_time": "2025-05-04T19:34:04.755155",
   "version": "2.6.0"
  }
 },
 "nbformat": 4,
 "nbformat_minor": 5
}
