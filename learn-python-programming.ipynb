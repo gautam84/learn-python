{
 "cells": [
  {
   "cell_type": "markdown",
   "id": "876c3961",
   "metadata": {
    "papermill": {
     "duration": 0.004326,
     "end_time": "2025-05-21T15:37:49.485919",
     "exception": false,
     "start_time": "2025-05-21T15:37:49.481593",
     "status": "completed"
    },
    "tags": []
   },
   "source": [
    "# Learn Python Programming"
   ]
  },
  {
   "cell_type": "code",
   "execution_count": 1,
   "id": "8c963759",
   "metadata": {
    "execution": {
     "iopub.execute_input": "2025-05-21T15:37:49.494168Z",
     "iopub.status.busy": "2025-05-21T15:37:49.493865Z",
     "iopub.status.idle": "2025-05-21T15:37:49.501420Z",
     "shell.execute_reply": "2025-05-21T15:37:49.500657Z"
    },
    "papermill": {
     "duration": 0.01308,
     "end_time": "2025-05-21T15:37:49.502648",
     "exception": false,
     "start_time": "2025-05-21T15:37:49.489568",
     "status": "completed"
    },
    "tags": []
   },
   "outputs": [
    {
     "name": "stdout",
     "output_type": "stream",
     "text": [
      "Hello World!\n"
     ]
    }
   ],
   "source": [
    "print(\"Hello World!\")"
   ]
  },
  {
   "cell_type": "markdown",
   "id": "b78df80b",
   "metadata": {
    "papermill": {
     "duration": 0.003166,
     "end_time": "2025-05-21T15:37:49.509380",
     "exception": false,
     "start_time": "2025-05-21T15:37:49.506214",
     "status": "completed"
    },
    "tags": []
   },
   "source": [
    "## 1. Loops"
   ]
  },
  {
   "cell_type": "code",
   "execution_count": 2,
   "id": "5985d3e9",
   "metadata": {
    "execution": {
     "iopub.execute_input": "2025-05-21T15:37:49.517184Z",
     "iopub.status.busy": "2025-05-21T15:37:49.516877Z",
     "iopub.status.idle": "2025-05-21T15:37:49.521845Z",
     "shell.execute_reply": "2025-05-21T15:37:49.520946Z"
    },
    "papermill": {
     "duration": 0.01044,
     "end_time": "2025-05-21T15:37:49.523143",
     "exception": false,
     "start_time": "2025-05-21T15:37:49.512703",
     "status": "completed"
    },
    "tags": []
   },
   "outputs": [
    {
     "name": "stdout",
     "output_type": "stream",
     "text": [
      "Printing the 1th element.\n",
      "Printing the 2th element.\n",
      "Printing the 3th element.\n",
      "Printing the 4th element.\n"
     ]
    }
   ],
   "source": [
    "# a. while loop\n",
    "\n",
    "count = 0\n",
    "while(count < 4):\n",
    "    count += 1\n",
    "    print(f\"Printing the {count}th element.\")\n",
    "\n"
   ]
  },
  {
   "cell_type": "code",
   "execution_count": 3,
   "id": "50ee349f",
   "metadata": {
    "execution": {
     "iopub.execute_input": "2025-05-21T15:37:49.531723Z",
     "iopub.status.busy": "2025-05-21T15:37:49.531455Z",
     "iopub.status.idle": "2025-05-21T15:37:49.536450Z",
     "shell.execute_reply": "2025-05-21T15:37:49.535365Z"
    },
    "papermill": {
     "duration": 0.010928,
     "end_time": "2025-05-21T15:37:49.537741",
     "exception": false,
     "start_time": "2025-05-21T15:37:49.526813",
     "status": "completed"
    },
    "tags": []
   },
   "outputs": [
    {
     "name": "stdout",
     "output_type": "stream",
     "text": [
      "Printing the 0th element.\n",
      "Printing the 1th element.\n",
      "Printing the 2th element.\n",
      "Printing the 3th element.\n",
      "Nothing to print\n"
     ]
    }
   ],
   "source": [
    "# b. while... else loop\n",
    "\n",
    "count = 0\n",
    "while(count < 4):\n",
    "    print(f\"Printing the {count}th element.\")\n",
    "    count += 1\n",
    "else:\n",
    "    print(\"Nothing to print\")\n"
   ]
  },
  {
   "cell_type": "code",
   "execution_count": 4,
   "id": "445eb38b",
   "metadata": {
    "execution": {
     "iopub.execute_input": "2025-05-21T15:37:49.546309Z",
     "iopub.status.busy": "2025-05-21T15:37:49.546003Z",
     "iopub.status.idle": "2025-05-21T15:37:49.551604Z",
     "shell.execute_reply": "2025-05-21T15:37:49.550623Z"
    },
    "papermill": {
     "duration": 0.011624,
     "end_time": "2025-05-21T15:37:49.553080",
     "exception": false,
     "start_time": "2025-05-21T15:37:49.541456",
     "status": "completed"
    },
    "tags": []
   },
   "outputs": [
    {
     "name": "stdout",
     "output_type": "stream",
     "text": [
      "Printing the 0th element.\n",
      "Printing the 1th element.\n",
      "Printing the 2th element.\n",
      "Printing the 3th element.\n",
      "Printing the 4th element.\n",
      "\n",
      "\n",
      "\n",
      "Printing the 2th element.\n",
      "Printing the 3th element.\n",
      "Printing the 4th element.\n",
      "\n",
      "\n",
      "\n",
      "Printing the 0th element.\n",
      "Printing the 2th element.\n",
      "Printing the 4th element.\n",
      "Printing the 6th element.\n",
      "Printing the 8th element.\n"
     ]
    }
   ],
   "source": [
    "# c. for loop\n",
    "\n",
    "for i in range(5):\n",
    "    print(f\"Printing the {i}th element.\")\n",
    "\n",
    "print(\"\\n\\n\")\n",
    "\n",
    "for i in range(2, 5):\n",
    "    print(f\"Printing the {i}th element.\")\n",
    "\n",
    "print(\"\\n\\n\")\n",
    "\n",
    "\n",
    "for i in range(0, 10, 2):\n",
    "    print(f\"Printing the {i}th element.\")\n"
   ]
  },
  {
   "cell_type": "code",
   "execution_count": 5,
   "id": "4f4f590d",
   "metadata": {
    "execution": {
     "iopub.execute_input": "2025-05-21T15:37:49.561717Z",
     "iopub.status.busy": "2025-05-21T15:37:49.561408Z",
     "iopub.status.idle": "2025-05-21T15:37:49.568354Z",
     "shell.execute_reply": "2025-05-21T15:37:49.567539Z"
    },
    "papermill": {
     "duration": 0.012798,
     "end_time": "2025-05-21T15:37:49.569727",
     "exception": false,
     "start_time": "2025-05-21T15:37:49.556929",
     "status": "completed"
    },
    "tags": []
   },
   "outputs": [
    {
     "name": "stdout",
     "output_type": "stream",
     "text": [
      "The required item is Cake.\n",
      "The required item is Sandwich.\n",
      "The required item is Burger.\n",
      "The required item is Tea.\n",
      "\n",
      "\n",
      "\n",
      "The 0th element is: Cake\n",
      "The 1th element is: Sandwich\n",
      "The 2th element is: Burger\n",
      "The 3th element is: Tea\n",
      "\n",
      "\n",
      "\n",
      "The required item is Mark.\n",
      "The required item is Spencer.\n",
      "The required item is Douglas.\n",
      "The required item is Raymond.\n",
      "\n",
      "\n",
      "\n",
      "G\n",
      "e\n",
      "e\n",
      "k\n",
      "s\n",
      "\n",
      "\n",
      "\n",
      "x  123\n",
      "y  354\n",
      "\n",
      "\n",
      "\n",
      "1\n",
      "2\n",
      "3\n",
      "4\n",
      "5\n",
      "6\n"
     ]
    }
   ],
   "source": [
    "# iterating with for loop\n",
    "\n",
    "items = [\"Cake\", \"Sandwich\", \"Burger\", \"Tea\"]\n",
    "\n",
    "for i in items:\n",
    "    print(f\"The required item is {i}.\")\n",
    "\n",
    "print(\"\\n\\n\")\n",
    "\n",
    "for index in range(len(items)):\n",
    "    print(f\"The {index}th element is: {items[index]}\")\n",
    "\n",
    "print(\"\\n\\n\")\n",
    "\n",
    "names = (\"Mark\", \"Spencer\", \"Douglas\", \"Raymond\")\n",
    "\n",
    "for i in names:\n",
    "    print(f\"The required item is {i}.\")\n",
    "\n",
    "print(\"\\n\\n\")\n",
    "\n",
    "s = \"Geeks\"\n",
    "for i in s:\n",
    "    print(i)\n",
    "\n",
    "print(\"\\n\\n\")\n",
    "\n",
    "    \n",
    "d = dict({'x':123, 'y':354})\n",
    "for i in d:\n",
    "    print(\"%s  %d\" % (i, d[i]))\n",
    "\n",
    "print(\"\\n\\n\")\n",
    "\n",
    "    \n",
    "set1 = {1, 2, 3, 4, 5, 6}\n",
    "for i in set1:\n",
    "    print(i),\n"
   ]
  },
  {
   "cell_type": "code",
   "execution_count": 6,
   "id": "11e70c32",
   "metadata": {
    "execution": {
     "iopub.execute_input": "2025-05-21T15:37:49.578530Z",
     "iopub.status.busy": "2025-05-21T15:37:49.578226Z",
     "iopub.status.idle": "2025-05-21T15:37:49.582916Z",
     "shell.execute_reply": "2025-05-21T15:37:49.582129Z"
    },
    "papermill": {
     "duration": 0.010636,
     "end_time": "2025-05-21T15:37:49.584227",
     "exception": false,
     "start_time": "2025-05-21T15:37:49.573591",
     "status": "completed"
    },
    "tags": []
   },
   "outputs": [
    {
     "name": "stdout",
     "output_type": "stream",
     "text": [
      "0\n",
      "1\n",
      "2\n",
      "3\n",
      "4\n",
      "5\n",
      "6\n",
      "7\n",
      "8\n",
      "9\n",
      "End of for\n"
     ]
    }
   ],
   "source": [
    "# d. for with else\n",
    "\n",
    "for i in range(10):\n",
    "    print(i)\n",
    "\n",
    "else:\n",
    "    print(\"End of for\")"
   ]
  },
  {
   "cell_type": "code",
   "execution_count": 7,
   "id": "763cc364",
   "metadata": {
    "execution": {
     "iopub.execute_input": "2025-05-21T15:37:49.593098Z",
     "iopub.status.busy": "2025-05-21T15:37:49.592759Z",
     "iopub.status.idle": "2025-05-21T15:37:49.598139Z",
     "shell.execute_reply": "2025-05-21T15:37:49.597382Z"
    },
    "papermill": {
     "duration": 0.01119,
     "end_time": "2025-05-21T15:37:49.599471",
     "exception": false,
     "start_time": "2025-05-21T15:37:49.588281",
     "status": "completed"
    },
    "tags": []
   },
   "outputs": [
    {
     "name": "stdout",
     "output_type": "stream",
     "text": [
      "0\n",
      "1\n",
      "2\n",
      "3\n",
      "4\n",
      "\n",
      "\n",
      "\n",
      "0\n",
      "1\n",
      "2\n",
      "4\n",
      "\n",
      "\n",
      "\n",
      "0\n",
      "1\n",
      "2\n",
      "4\n"
     ]
    }
   ],
   "source": [
    "# break, continue and pass\n",
    "\n",
    "for i in range(10):\n",
    "    if i == 5:\n",
    "        break  \n",
    "    print(i)\n",
    "\n",
    "print(\"\\n\\n\")\n",
    "\n",
    "for i in range(5):\n",
    "    if i == 3:\n",
    "        continue \n",
    "    print(i)\n",
    "\n",
    "print(\"\\n\\n\")\n",
    "\n",
    "for i in range(5):\n",
    "    if i == 3:\n",
    "        pass  \n",
    "    else:\n",
    "        print(i)"
   ]
  },
  {
   "cell_type": "markdown",
   "id": "3b0d0ab0",
   "metadata": {
    "papermill": {
     "duration": 0.003585,
     "end_time": "2025-05-21T15:37:49.607030",
     "exception": false,
     "start_time": "2025-05-21T15:37:49.603445",
     "status": "completed"
    },
    "tags": []
   },
   "source": [
    "## 2. Conditional Statements"
   ]
  },
  {
   "cell_type": "code",
   "execution_count": 8,
   "id": "341e1f9c",
   "metadata": {
    "execution": {
     "iopub.execute_input": "2025-05-21T15:37:49.615785Z",
     "iopub.status.busy": "2025-05-21T15:37:49.615509Z",
     "iopub.status.idle": "2025-05-21T15:37:49.623088Z",
     "shell.execute_reply": "2025-05-21T15:37:49.622163Z"
    },
    "papermill": {
     "duration": 0.013511,
     "end_time": "2025-05-21T15:37:49.624388",
     "exception": false,
     "start_time": "2025-05-21T15:37:49.610877",
     "status": "completed"
    },
    "tags": []
   },
   "outputs": [
    {
     "name": "stdout",
     "output_type": "stream",
     "text": [
      "5 is greater than 2.\n",
      "\n",
      "\n",
      "5 is less than 2.\n",
      "\n",
      "\n",
      "Name's length is not defined\n",
      "\n",
      "\n",
      "Result: Pass\n",
      "\n",
      "\n",
      "Two or Three\n",
      "\n",
      "\n",
      "Other number\n"
     ]
    }
   ],
   "source": [
    "num = 5\n",
    "\n",
    "if num > 2:\n",
    "    print(f\"{num} is greater than 2.\")\n",
    "\n",
    "print(\"\\n\")\n",
    "\n",
    "if num > 7:\n",
    "    print(f\"{num} is greater than 2.\")\n",
    "else:\n",
    "    print(f\"{num} is less than 2.\")\n",
    "\n",
    "print(\"\\n\")\n",
    "\n",
    "name = \"Gautam\"\n",
    "\n",
    "if len(name) == 3:\n",
    "    print(\"Name's length is 3\")\n",
    "elif len(name) == 5:\n",
    "    print(\"Name's length is 5\")\n",
    "else:\n",
    "    print(\"Name's length is not defined\")\n",
    "    \n",
    "print(\"\\n\")\n",
    "\n",
    "marks = 45\n",
    "res = \"Pass\" if marks >= 40 else \"Fail\"\n",
    "\n",
    "print(f\"Result: {res}\")\n",
    "    \n",
    "number = 2\n",
    "print(\"\\n\")\n",
    "\n",
    "match number:\n",
    "    case 1:\n",
    "        print(\"One\")\n",
    "    case 2 | 3:\n",
    "        print(\"Two or Three\")\n",
    "    case _:\n",
    "        print(\"Other number\")\n",
    "\n",
    "print(\"\\n\")\n",
    "\n",
    "new = \"WhatsApp\"\n",
    "\n",
    "match len(new):\n",
    "    case 1:\n",
    "        print(\"One\")\n",
    "    case 2 | 3:\n",
    "        print(\"Two or Three\")\n",
    "    case _:\n",
    "        print(\"Other number\")\n",
    "        \n",
    "    \n"
   ]
  },
  {
   "cell_type": "markdown",
   "id": "5a2836d7",
   "metadata": {
    "papermill": {
     "duration": 0.003558,
     "end_time": "2025-05-21T15:37:49.631862",
     "exception": false,
     "start_time": "2025-05-21T15:37:49.628304",
     "status": "completed"
    },
    "tags": []
   },
   "source": [
    "### 3. OOPs"
   ]
  },
  {
   "cell_type": "code",
   "execution_count": 9,
   "id": "58bd66c2",
   "metadata": {
    "execution": {
     "iopub.execute_input": "2025-05-21T15:37:49.640869Z",
     "iopub.status.busy": "2025-05-21T15:37:49.640175Z",
     "iopub.status.idle": "2025-05-21T15:37:49.645917Z",
     "shell.execute_reply": "2025-05-21T15:37:49.644940Z"
    },
    "papermill": {
     "duration": 0.011617,
     "end_time": "2025-05-21T15:37:49.647290",
     "exception": false,
     "start_time": "2025-05-21T15:37:49.635673",
     "status": "completed"
    },
    "tags": []
   },
   "outputs": [
    {
     "name": "stdout",
     "output_type": "stream",
     "text": [
      "Space Torgo\n",
      "2 1\n",
      "Canine\n",
      "Canine\n"
     ]
    }
   ],
   "source": [
    "class Dog:\n",
    "    species = \"Canine\"  \n",
    "\n",
    "    def __init__(self, name, age):\n",
    "        self.name = name  \n",
    "        self.age = age \n",
    "\n",
    "dog1 = Dog(\"Space\", 2)\n",
    "dog2 = Dog(\"Torgo\", 1)\n",
    "\n",
    "print(dog1.name, dog2.name)\n",
    "print(dog1.age, dog2.age)\n",
    "print(Dog.species)\n",
    "print(dog1.species)\n",
    "\n"
   ]
  },
  {
   "cell_type": "code",
   "execution_count": 10,
   "id": "42e7546c",
   "metadata": {
    "execution": {
     "iopub.execute_input": "2025-05-21T15:37:49.656213Z",
     "iopub.status.busy": "2025-05-21T15:37:49.655949Z",
     "iopub.status.idle": "2025-05-21T15:37:49.662123Z",
     "shell.execute_reply": "2025-05-21T15:37:49.661334Z"
    },
    "papermill": {
     "duration": 0.012198,
     "end_time": "2025-05-21T15:37:49.663461",
     "exception": false,
     "start_time": "2025-05-21T15:37:49.651263",
     "status": "completed"
    },
    "tags": []
   },
   "outputs": [
    {
     "name": "stdout",
     "output_type": "stream",
     "text": [
      "Lika Tom\n",
      "2 1\n",
      "Dog Cat\n",
      "Organic\n"
     ]
    }
   ],
   "source": [
    "class Animal:\n",
    "    HType=\"Organic\"\n",
    "    \n",
    "    def __init__(self, name, age, species):\n",
    "        self.name = name\n",
    "        self.age = age\n",
    "        self.species = species\n",
    "        \n",
    "animal1 = Animal(\"Lika\", 2, \"Dog\")\n",
    "animal2 = Animal(\"Tom\", 1, \"Cat\")\n",
    "\n",
    "print(animal1.name, animal2.name)\n",
    "print(animal1.age, animal2.age)\n",
    "print(animal1.species, animal2.species)\n",
    "print(Animal.HType)"
   ]
  },
  {
   "cell_type": "code",
   "execution_count": 11,
   "id": "9b462915",
   "metadata": {
    "execution": {
     "iopub.execute_input": "2025-05-21T15:37:49.673519Z",
     "iopub.status.busy": "2025-05-21T15:37:49.673241Z",
     "iopub.status.idle": "2025-05-21T15:37:49.680905Z",
     "shell.execute_reply": "2025-05-21T15:37:49.679876Z"
    },
    "papermill": {
     "duration": 0.014863,
     "end_time": "2025-05-21T15:37:49.682352",
     "exception": false,
     "start_time": "2025-05-21T15:37:49.667489",
     "status": "completed"
    },
    "tags": []
   },
   "outputs": [
    {
     "name": "stdout",
     "output_type": "stream",
     "text": [
      "Dog's Name: Buddy\n",
      "Labrador woofs\n",
      "Dog's Name: Max\n",
      "MaxGuides the way!\n",
      "Dog's Name: Charlie\n",
      "Friendly!\n",
      "Golden Retriever Barks\n"
     ]
    }
   ],
   "source": [
    "# Single Inheritance\n",
    "class Dog:\n",
    "    def __init__(self, name):\n",
    "        self.name = name\n",
    "\n",
    "    def display_name(self):\n",
    "        print(f\"Dog's Name: {self.name}\")\n",
    "\n",
    "class Labrador(Dog):  # Single Inheritance\n",
    "    def sound(self):\n",
    "        print(\"Labrador woofs\")\n",
    "\n",
    "# Multilevel Inheritance\n",
    "class GuideDog(Labrador):  \n",
    "    def guide(self):\n",
    "        print(f\"{self.name}Guides the way!\")\n",
    "\n",
    "# Multiple Inheritance\n",
    "class Friendly:\n",
    "    def greet(self):\n",
    "        print(\"Friendly!\")\n",
    "\n",
    "class GoldenRetriever(Dog, Friendly):  # Multiple Inheritance\n",
    "    def sound(self):\n",
    "        print(\"Golden Retriever Barks\")\n",
    "\n",
    "# Example Usage\n",
    "lab = Labrador(\"Buddy\")\n",
    "lab.display_name()\n",
    "lab.sound()\n",
    "\n",
    "guide_dog = GuideDog(\"Max\")\n",
    "guide_dog.display_name()\n",
    "guide_dog.guide()\n",
    "\n",
    "retriever = GoldenRetriever(\"Charlie\")\n",
    "retriever.display_name()\n",
    "retriever.greet()\n",
    "retriever.sound()"
   ]
  },
  {
   "cell_type": "code",
   "execution_count": 12,
   "id": "9ea2055d",
   "metadata": {
    "execution": {
     "iopub.execute_input": "2025-05-21T15:37:49.692186Z",
     "iopub.status.busy": "2025-05-21T15:37:49.691418Z",
     "iopub.status.idle": "2025-05-21T15:37:49.699533Z",
     "shell.execute_reply": "2025-05-21T15:37:49.698835Z"
    },
    "papermill": {
     "duration": 0.01434,
     "end_time": "2025-05-21T15:37:49.700927",
     "exception": false,
     "start_time": "2025-05-21T15:37:49.686587",
     "status": "completed"
    },
    "tags": []
   },
   "outputs": [
    {
     "name": "stdout",
     "output_type": "stream",
     "text": [
      "Bee's Name: Sam\n",
      "\n",
      "\n",
      "Bee's Name: John\n",
      "John worker bee works.\n",
      "\n",
      "\n",
      "Laura queen bee works.\n",
      "Heen bee of age 4 is a baby.\n"
     ]
    }
   ],
   "source": [
    "class Bee:\n",
    "    def __init__(self, name):\n",
    "        self.name = name\n",
    "\n",
    "    def display_name(self):\n",
    "        print(f\"Bee's Name: {self.name}\")\n",
    "\n",
    "class WorkerBee(Bee):\n",
    "    def work(self):\n",
    "        print(f\"{self.name} worker bee works.\")\n",
    "\n",
    "class QueenBee(WorkerBee):\n",
    "    def work(self):\n",
    "        print(f\"{self.name} queen bee works.\")\n",
    "\n",
    "class Type:\n",
    "   def __init__(self, age):\n",
    "      self.age = age\n",
    "\n",
    "\n",
    "class Larva(Type, QueenBee):\n",
    "\n",
    "   def __init__(self, tag, name, age):\n",
    "       Type.__init__(self, age)\n",
    "       QueenBee.__init__(self, name)\n",
    "       self.tag = tag\n",
    "       \n",
    "    \n",
    "       \n",
    "   def work(self):\n",
    "     print(f\"{self.name} bee of age {self.age} is a baby.\")\n",
    "\n",
    "\n",
    "bee1 = Bee(\"Sam\")\n",
    "bee1.display_name()\n",
    "\n",
    "print(\"\\n\")\n",
    "\n",
    "bee2 = WorkerBee(\"John\")\n",
    "bee2.display_name()\n",
    "bee2.work()\n",
    "\n",
    "print(\"\\n\")\n",
    "\n",
    "bee3 = QueenBee(\"Laura\")\n",
    "bee3.work()\n",
    "\n",
    "bee4 = Larva(\"xt\",\"Heen\", 4)\n",
    "bee4.work()\n",
    "\n",
    "        \n",
    "    \n",
    "    "
   ]
  },
  {
   "cell_type": "code",
   "execution_count": 13,
   "id": "0bf1557f",
   "metadata": {
    "execution": {
     "iopub.execute_input": "2025-05-21T15:37:49.710280Z",
     "iopub.status.busy": "2025-05-21T15:37:49.709950Z",
     "iopub.status.idle": "2025-05-21T15:37:49.716723Z",
     "shell.execute_reply": "2025-05-21T15:37:49.715846Z"
    },
    "papermill": {
     "duration": 0.013087,
     "end_time": "2025-05-21T15:37:49.718154",
     "exception": false,
     "start_time": "2025-05-21T15:37:49.705067",
     "status": "completed"
    },
    "tags": []
   },
   "outputs": [
    {
     "name": "stdout",
     "output_type": "stream",
     "text": [
      "dog sound\n",
      "Labrador woofs\n",
      "Beagle Barks\n",
      "15\n",
      "30\n"
     ]
    }
   ],
   "source": [
    "# Parent Class\n",
    "class Dog:\n",
    "    def sound(self):\n",
    "        print(\"dog sound\")  # Default implementation\n",
    "\n",
    "# Run-Time Polymorphism: Method Overriding\n",
    "class Labrador(Dog):\n",
    "    def sound(self):\n",
    "        print(\"Labrador woofs\")  # Overriding parent method\n",
    "\n",
    "class Beagle(Dog):\n",
    "    def sound(self):\n",
    "        print(\"Beagle Barks\")  # Overriding parent method\n",
    "\n",
    "# Compile-Time Polymorphism: Method Overloading Mimic\n",
    "class Calculator:\n",
    "    def add(self, a, b=0, c=0):\n",
    "        return a + b + c  # Supports multiple ways to call add()\n",
    "\n",
    "# Run-Time Polymorphism\n",
    "dogs = [Dog(), Labrador(), Beagle()]\n",
    "for dog in dogs:\n",
    "    dog.sound()  # Calls the appropriate method based on the object type\n",
    "\n",
    "\n",
    "# Compile-Time Polymorphism (Mimicked using default arguments)\n",
    "calc = Calculator()\n",
    "print(calc.add(5, 10))  # Two arguments\n",
    "print(calc.add(5, 10, 15))  # Three arguments"
   ]
  },
  {
   "cell_type": "code",
   "execution_count": 14,
   "id": "67a4735a",
   "metadata": {
    "execution": {
     "iopub.execute_input": "2025-05-21T15:37:49.727995Z",
     "iopub.status.busy": "2025-05-21T15:37:49.727631Z",
     "iopub.status.idle": "2025-05-21T15:37:49.734037Z",
     "shell.execute_reply": "2025-05-21T15:37:49.733206Z"
    },
    "papermill": {
     "duration": 0.01286,
     "end_time": "2025-05-21T15:37:49.735370",
     "exception": false,
     "start_time": "2025-05-21T15:37:49.722510",
     "status": "completed"
    },
    "tags": []
   },
   "outputs": [
    {
     "name": "stdout",
     "output_type": "stream",
     "text": [
      "Buddy\n",
      "Labrador\n",
      "3\n",
      "Name: Buddy, Breed: Labrador, Age: 5\n"
     ]
    }
   ],
   "source": [
    "class Dog:\n",
    "    def __init__(self, name, breed, age):\n",
    "        self.name = name  # Public attribute\n",
    "        self._breed = breed  # Protected attribute\n",
    "        self.__age = age  # Private attribute\n",
    "\n",
    "    # Public method\n",
    "    def get_info(self):\n",
    "        return f\"Name: {self.name}, Breed: {self._breed}, Age: {self.__age}\"\n",
    "\n",
    "    # Getter and Setter for private attribute\n",
    "    def get_age(self):\n",
    "        return self.__age\n",
    "\n",
    "    def set_age(self, age):\n",
    "        if age > 0:\n",
    "            self.__age = age\n",
    "        else:\n",
    "            print(\"Invalid age!\")\n",
    "\n",
    "# Example Usage\n",
    "dog = Dog(\"Buddy\", \"Labrador\", 3)\n",
    "\n",
    "# Accessing public member\n",
    "print(dog.name)  # Accessible\n",
    "\n",
    "# Accessing protected member\n",
    "print(dog._breed)  # Accessible but discouraged outside the class\n",
    "\n",
    "# Accessing private member using getter\n",
    "print(dog.get_age())\n",
    "\n",
    "# Modifying private member using setter\n",
    "dog.set_age(5)\n",
    "print(dog.get_info())"
   ]
  },
  {
   "cell_type": "code",
   "execution_count": 15,
   "id": "9e0cf218",
   "metadata": {
    "execution": {
     "iopub.execute_input": "2025-05-21T15:37:49.745527Z",
     "iopub.status.busy": "2025-05-21T15:37:49.745244Z",
     "iopub.status.idle": "2025-05-21T15:37:49.751551Z",
     "shell.execute_reply": "2025-05-21T15:37:49.750821Z"
    },
    "papermill": {
     "duration": 0.012978,
     "end_time": "2025-05-21T15:37:49.752843",
     "exception": false,
     "start_time": "2025-05-21T15:37:49.739865",
     "status": "completed"
    },
    "tags": []
   },
   "outputs": [
    {
     "name": "stdout",
     "output_type": "stream",
     "text": [
      "Dog's Name: Buddy\n",
      "Labrador Woof!\n",
      "Dog's Name: Charlie\n",
      "Beagle Bark!\n"
     ]
    }
   ],
   "source": [
    "from abc import ABC, abstractmethod\n",
    "\n",
    "class Dog(ABC):  # Abstract Class\n",
    "    def __init__(self, name):\n",
    "        self.name = name\n",
    "\n",
    "    @abstractmethod\n",
    "    def sound(self):  # Abstract Method\n",
    "        pass\n",
    "\n",
    "    def display_name(self):  # Concrete Method\n",
    "        print(f\"Dog's Name: {self.name}\")\n",
    "\n",
    "class Labrador(Dog):  # Partial Abstraction\n",
    "    def sound(self):\n",
    "        print(\"Labrador Woof!\")\n",
    "\n",
    "class Beagle(Dog):  # Partial Abstraction\n",
    "    def sound(self):\n",
    "        print(\"Beagle Bark!\")\n",
    "\n",
    "# Example Usage\n",
    "dogs = [Labrador(\"Buddy\"), Beagle(\"Charlie\")]\n",
    "for dog in dogs:\n",
    "    dog.display_name()  # Calls concrete method\n",
    "    dog.sound()  # Calls implemented abstract method"
   ]
  }
 ],
 "metadata": {
  "kaggle": {
   "accelerator": "none",
   "dataSources": [],
   "dockerImageVersionId": 31012,
   "isGpuEnabled": false,
   "isInternetEnabled": true,
   "language": "python",
   "sourceType": "notebook"
  },
  "kernelspec": {
   "display_name": "Python 3",
   "language": "python",
   "name": "python3"
  },
  "language_info": {
   "codemirror_mode": {
    "name": "ipython",
    "version": 3
   },
   "file_extension": ".py",
   "mimetype": "text/x-python",
   "name": "python",
   "nbconvert_exporter": "python",
   "pygments_lexer": "ipython3",
   "version": "3.11.11"
  },
  "papermill": {
   "default_parameters": {},
   "duration": 6.282244,
   "end_time": "2025-05-21T15:37:50.074682",
   "environment_variables": {},
   "exception": null,
   "input_path": "__notebook__.ipynb",
   "output_path": "__notebook__.ipynb",
   "parameters": {},
   "start_time": "2025-05-21T15:37:43.792438",
   "version": "2.6.0"
  }
 },
 "nbformat": 4,
 "nbformat_minor": 5
}
