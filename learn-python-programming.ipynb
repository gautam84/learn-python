{
 "cells": [
  {
   "cell_type": "markdown",
   "id": "b6b83347",
   "metadata": {
    "papermill": {
     "duration": 0.004154,
     "end_time": "2025-05-04T19:33:39.078349",
     "exception": false,
     "start_time": "2025-05-04T19:33:39.074195",
     "status": "completed"
    },
    "tags": []
   },
   "source": [
    "# Learn Python Programming"
   ]
  },
  {
   "cell_type": "code",
   "execution_count": 1,
   "id": "5f1b8f01",
   "metadata": {
    "execution": {
     "iopub.execute_input": "2025-05-04T19:33:39.086704Z",
     "iopub.status.busy": "2025-05-04T19:33:39.086378Z",
     "iopub.status.idle": "2025-05-04T19:33:39.094488Z",
     "shell.execute_reply": "2025-05-04T19:33:39.093779Z"
    },
    "papermill": {
     "duration": 0.013734,
     "end_time": "2025-05-04T19:33:39.095747",
     "exception": false,
     "start_time": "2025-05-04T19:33:39.082013",
     "status": "completed"
    },
    "tags": []
   },
   "outputs": [
    {
     "name": "stdout",
     "output_type": "stream",
     "text": [
      "Hello World!\n"
     ]
    }
   ],
   "source": [
    "print(\"Hello World!\")"
   ]
  },
  {
   "cell_type": "markdown",
   "id": "8aea5840",
   "metadata": {
    "papermill": {
     "duration": 0.003337,
     "end_time": "2025-05-04T19:33:39.102748",
     "exception": false,
     "start_time": "2025-05-04T19:33:39.099411",
     "status": "completed"
    },
    "tags": []
   },
   "source": [
    "### 1. Loops"
   ]
  },
  {
   "cell_type": "code",
   "execution_count": 2,
   "id": "222ff356",
   "metadata": {
    "execution": {
     "iopub.execute_input": "2025-05-04T19:33:39.110937Z",
     "iopub.status.busy": "2025-05-04T19:33:39.110237Z",
     "iopub.status.idle": "2025-05-04T19:33:39.115165Z",
     "shell.execute_reply": "2025-05-04T19:33:39.114167Z"
    },
    "papermill": {
     "duration": 0.010549,
     "end_time": "2025-05-04T19:33:39.116647",
     "exception": false,
     "start_time": "2025-05-04T19:33:39.106098",
     "status": "completed"
    },
    "tags": []
   },
   "outputs": [
    {
     "name": "stdout",
     "output_type": "stream",
     "text": [
      "Printing the 1th element.\n",
      "Printing the 2th element.\n",
      "Printing the 3th element.\n",
      "Printing the 4th element.\n"
     ]
    }
   ],
   "source": [
    "# a. while loop\n",
    "\n",
    "count = 0\n",
    "while(count < 4):\n",
    "    count += 1\n",
    "    print(f\"Printing the {count}th element.\")\n",
    "\n"
   ]
  },
  {
   "cell_type": "code",
   "execution_count": 3,
   "id": "c3dad0b4",
   "metadata": {
    "execution": {
     "iopub.execute_input": "2025-05-04T19:33:39.125393Z",
     "iopub.status.busy": "2025-05-04T19:33:39.124561Z",
     "iopub.status.idle": "2025-05-04T19:33:39.129629Z",
     "shell.execute_reply": "2025-05-04T19:33:39.128659Z"
    },
    "papermill": {
     "duration": 0.01068,
     "end_time": "2025-05-04T19:33:39.131101",
     "exception": false,
     "start_time": "2025-05-04T19:33:39.120421",
     "status": "completed"
    },
    "tags": []
   },
   "outputs": [
    {
     "name": "stdout",
     "output_type": "stream",
     "text": [
      "Printing the 0th element.\n",
      "Printing the 1th element.\n",
      "Printing the 2th element.\n",
      "Printing the 3th element.\n",
      "Nothing to print\n"
     ]
    }
   ],
   "source": [
    "# b. while... else loop\n",
    "\n",
    "count = 0\n",
    "while(count < 4):\n",
    "    print(f\"Printing the {count}th element.\")\n",
    "    count += 1\n",
    "else:\n",
    "    print(\"Nothing to print\")\n"
   ]
  },
  {
   "cell_type": "code",
   "execution_count": 4,
   "id": "a0410809",
   "metadata": {
    "execution": {
     "iopub.execute_input": "2025-05-04T19:33:39.139201Z",
     "iopub.status.busy": "2025-05-04T19:33:39.138900Z",
     "iopub.status.idle": "2025-05-04T19:33:39.144646Z",
     "shell.execute_reply": "2025-05-04T19:33:39.143736Z"
    },
    "papermill": {
     "duration": 0.011396,
     "end_time": "2025-05-04T19:33:39.145953",
     "exception": false,
     "start_time": "2025-05-04T19:33:39.134557",
     "status": "completed"
    },
    "tags": []
   },
   "outputs": [
    {
     "name": "stdout",
     "output_type": "stream",
     "text": [
      "Printing the 0th element.\n",
      "Printing the 1th element.\n",
      "Printing the 2th element.\n",
      "Printing the 3th element.\n",
      "Printing the 4th element.\n",
      "\n",
      "\n",
      "\n",
      "Printing the 2th element.\n",
      "Printing the 3th element.\n",
      "Printing the 4th element.\n",
      "\n",
      "\n",
      "\n",
      "Printing the 0th element.\n",
      "Printing the 2th element.\n",
      "Printing the 4th element.\n",
      "Printing the 6th element.\n",
      "Printing the 8th element.\n"
     ]
    }
   ],
   "source": [
    "# c. for loop\n",
    "\n",
    "for i in range(5):\n",
    "    print(f\"Printing the {i}th element.\")\n",
    "\n",
    "print(\"\\n\\n\")\n",
    "\n",
    "for i in range(2, 5):\n",
    "    print(f\"Printing the {i}th element.\")\n",
    "\n",
    "print(\"\\n\\n\")\n",
    "\n",
    "\n",
    "for i in range(0, 10, 2):\n",
    "    print(f\"Printing the {i}th element.\")\n"
   ]
  },
  {
   "cell_type": "code",
   "execution_count": 5,
   "id": "7adfeb87",
   "metadata": {
    "execution": {
     "iopub.execute_input": "2025-05-04T19:33:39.154371Z",
     "iopub.status.busy": "2025-05-04T19:33:39.154113Z",
     "iopub.status.idle": "2025-05-04T19:33:39.160694Z",
     "shell.execute_reply": "2025-05-04T19:33:39.159811Z"
    },
    "papermill": {
     "duration": 0.012493,
     "end_time": "2025-05-04T19:33:39.162189",
     "exception": false,
     "start_time": "2025-05-04T19:33:39.149696",
     "status": "completed"
    },
    "tags": []
   },
   "outputs": [
    {
     "name": "stdout",
     "output_type": "stream",
     "text": [
      "The required item is Cake.\n",
      "The required item is Sandwich.\n",
      "The required item is Burger.\n",
      "The required item is Tea.\n",
      "\n",
      "\n",
      "\n",
      "The 0th element is: Cake\n",
      "The 1th element is: Sandwich\n",
      "The 2th element is: Burger\n",
      "The 3th element is: Tea\n",
      "\n",
      "\n",
      "\n",
      "The required item is Mark.\n",
      "The required item is Spencer.\n",
      "The required item is Douglas.\n",
      "The required item is Raymond.\n",
      "\n",
      "\n",
      "\n",
      "G\n",
      "e\n",
      "e\n",
      "k\n",
      "s\n",
      "\n",
      "\n",
      "\n",
      "x  123\n",
      "y  354\n",
      "\n",
      "\n",
      "\n",
      "1\n",
      "2\n",
      "3\n",
      "4\n",
      "5\n",
      "6\n"
     ]
    }
   ],
   "source": [
    "# iterating with for loop\n",
    "\n",
    "items = [\"Cake\", \"Sandwich\", \"Burger\", \"Tea\"]\n",
    "\n",
    "for i in items:\n",
    "    print(f\"The required item is {i}.\")\n",
    "\n",
    "print(\"\\n\\n\")\n",
    "\n",
    "for index in range(len(items)):\n",
    "    print(f\"The {index}th element is: {items[index]}\")\n",
    "\n",
    "print(\"\\n\\n\")\n",
    "\n",
    "names = (\"Mark\", \"Spencer\", \"Douglas\", \"Raymond\")\n",
    "\n",
    "for i in names:\n",
    "    print(f\"The required item is {i}.\")\n",
    "\n",
    "print(\"\\n\\n\")\n",
    "\n",
    "s = \"Geeks\"\n",
    "for i in s:\n",
    "    print(i)\n",
    "\n",
    "print(\"\\n\\n\")\n",
    "\n",
    "    \n",
    "d = dict({'x':123, 'y':354})\n",
    "for i in d:\n",
    "    print(\"%s  %d\" % (i, d[i]))\n",
    "\n",
    "print(\"\\n\\n\")\n",
    "\n",
    "    \n",
    "set1 = {1, 2, 3, 4, 5, 6}\n",
    "for i in set1:\n",
    "    print(i),\n"
   ]
  },
  {
   "cell_type": "code",
   "execution_count": 6,
   "id": "fc37048b",
   "metadata": {
    "execution": {
     "iopub.execute_input": "2025-05-04T19:33:39.170495Z",
     "iopub.status.busy": "2025-05-04T19:33:39.170224Z",
     "iopub.status.idle": "2025-05-04T19:33:39.174916Z",
     "shell.execute_reply": "2025-05-04T19:33:39.174203Z"
    },
    "papermill": {
     "duration": 0.010197,
     "end_time": "2025-05-04T19:33:39.176147",
     "exception": false,
     "start_time": "2025-05-04T19:33:39.165950",
     "status": "completed"
    },
    "tags": []
   },
   "outputs": [
    {
     "name": "stdout",
     "output_type": "stream",
     "text": [
      "0\n",
      "1\n",
      "2\n",
      "3\n",
      "4\n",
      "5\n",
      "6\n",
      "7\n",
      "8\n",
      "9\n",
      "End of for\n"
     ]
    }
   ],
   "source": [
    "# d. for with else\n",
    "\n",
    "for i in range(10):\n",
    "    print(i)\n",
    "\n",
    "else:\n",
    "    print(\"End of for\")"
   ]
  },
  {
   "cell_type": "code",
   "execution_count": 7,
   "id": "2367b6cc",
   "metadata": {
    "execution": {
     "iopub.execute_input": "2025-05-04T19:33:39.184529Z",
     "iopub.status.busy": "2025-05-04T19:33:39.184284Z",
     "iopub.status.idle": "2025-05-04T19:33:39.189780Z",
     "shell.execute_reply": "2025-05-04T19:33:39.188871Z"
    },
    "papermill": {
     "duration": 0.011041,
     "end_time": "2025-05-04T19:33:39.191028",
     "exception": false,
     "start_time": "2025-05-04T19:33:39.179987",
     "status": "completed"
    },
    "tags": []
   },
   "outputs": [
    {
     "name": "stdout",
     "output_type": "stream",
     "text": [
      "0\n",
      "1\n",
      "2\n",
      "3\n",
      "4\n",
      "\n",
      "\n",
      "\n",
      "0\n",
      "1\n",
      "2\n",
      "4\n",
      "\n",
      "\n",
      "\n",
      "0\n",
      "1\n",
      "2\n",
      "4\n"
     ]
    }
   ],
   "source": [
    "# break, continue and pass\n",
    "\n",
    "for i in range(10):\n",
    "    if i == 5:\n",
    "        break  \n",
    "    print(i)\n",
    "\n",
    "print(\"\\n\\n\")\n",
    "\n",
    "for i in range(5):\n",
    "    if i == 3:\n",
    "        continue \n",
    "    print(i)\n",
    "\n",
    "print(\"\\n\\n\")\n",
    "\n",
    "for i in range(5):\n",
    "    if i == 3:\n",
    "        pass  \n",
    "    else:\n",
    "        print(i)"
   ]
  },
  {
   "cell_type": "markdown",
   "id": "be877bf2",
   "metadata": {
    "papermill": {
     "duration": 0.003267,
     "end_time": "2025-05-04T19:33:39.198051",
     "exception": false,
     "start_time": "2025-05-04T19:33:39.194784",
     "status": "completed"
    },
    "tags": []
   },
   "source": [
    "### 2. Conditional Statements"
   ]
  },
  {
   "cell_type": "code",
   "execution_count": 8,
   "id": "512200c1",
   "metadata": {
    "execution": {
     "iopub.execute_input": "2025-05-04T19:33:39.206152Z",
     "iopub.status.busy": "2025-05-04T19:33:39.205877Z",
     "iopub.status.idle": "2025-05-04T19:33:39.213443Z",
     "shell.execute_reply": "2025-05-04T19:33:39.212653Z"
    },
    "papermill": {
     "duration": 0.012909,
     "end_time": "2025-05-04T19:33:39.214579",
     "exception": false,
     "start_time": "2025-05-04T19:33:39.201670",
     "status": "completed"
    },
    "tags": []
   },
   "outputs": [
    {
     "name": "stdout",
     "output_type": "stream",
     "text": [
      "5 is greater than 2.\n",
      "\n",
      "\n",
      "5 is less than 2.\n",
      "\n",
      "\n",
      "Name's length is not defined\n",
      "\n",
      "\n",
      "Result: Pass\n",
      "\n",
      "\n",
      "Two or Three\n",
      "\n",
      "\n",
      "Other number\n"
     ]
    }
   ],
   "source": [
    "num = 5\n",
    "\n",
    "if num > 2:\n",
    "    print(f\"{num} is greater than 2.\")\n",
    "\n",
    "print(\"\\n\")\n",
    "\n",
    "if num > 7:\n",
    "    print(f\"{num} is greater than 2.\")\n",
    "else:\n",
    "    print(f\"{num} is less than 2.\")\n",
    "\n",
    "print(\"\\n\")\n",
    "\n",
    "name = \"Gautam\"\n",
    "\n",
    "if len(name) == 3:\n",
    "    print(\"Name's length is 3\")\n",
    "elif len(name) == 5:\n",
    "    print(\"Name's length is 5\")\n",
    "else:\n",
    "    print(\"Name's length is not defined\")\n",
    "    \n",
    "print(\"\\n\")\n",
    "\n",
    "marks = 45\n",
    "res = \"Pass\" if marks >= 40 else \"Fail\"\n",
    "\n",
    "print(f\"Result: {res}\")\n",
    "    \n",
    "number = 2\n",
    "print(\"\\n\")\n",
    "\n",
    "match number:\n",
    "    case 1:\n",
    "        print(\"One\")\n",
    "    case 2 | 3:\n",
    "        print(\"Two or Three\")\n",
    "    case _:\n",
    "        print(\"Other number\")\n",
    "\n",
    "print(\"\\n\")\n",
    "\n",
    "new = \"WhatsApp\"\n",
    "\n",
    "match len(new):\n",
    "    case 1:\n",
    "        print(\"One\")\n",
    "    case 2 | 3:\n",
    "        print(\"Two or Three\")\n",
    "    case _:\n",
    "        print(\"Other number\")\n",
    "        \n",
    "    \n"
   ]
  },
  {
   "cell_type": "markdown",
   "id": "1e8d9daf",
   "metadata": {
    "papermill": {
     "duration": 0.00347,
     "end_time": "2025-05-04T19:33:39.222184",
     "exception": false,
     "start_time": "2025-05-04T19:33:39.218714",
     "status": "completed"
    },
    "tags": []
   },
   "source": [
    "### 3. OOPs"
   ]
  },
  {
   "cell_type": "code",
   "execution_count": 9,
   "id": "849c0fed",
   "metadata": {
    "execution": {
     "iopub.execute_input": "2025-05-04T19:33:39.230460Z",
     "iopub.status.busy": "2025-05-04T19:33:39.230182Z",
     "iopub.status.idle": "2025-05-04T19:33:39.236324Z",
     "shell.execute_reply": "2025-05-04T19:33:39.235275Z"
    },
    "papermill": {
     "duration": 0.011826,
     "end_time": "2025-05-04T19:33:39.237748",
     "exception": false,
     "start_time": "2025-05-04T19:33:39.225922",
     "status": "completed"
    },
    "tags": []
   },
   "outputs": [
    {
     "name": "stdout",
     "output_type": "stream",
     "text": [
      "Space Torgo\n",
      "2 1\n",
      "Canine\n",
      "Canine\n"
     ]
    }
   ],
   "source": [
    "class Dog:\n",
    "    species = \"Canine\"  \n",
    "\n",
    "    def __init__(self, name, age):\n",
    "        self.name = name  \n",
    "        self.age = age \n",
    "\n",
    "dog1 = Dog(\"Space\", 2)\n",
    "dog2 = Dog(\"Torgo\", 1)\n",
    "\n",
    "print(dog1.name, dog2.name)\n",
    "print(dog1.age, dog2.age)\n",
    "print(Dog.species)\n",
    "print(dog1.species)\n",
    "\n"
   ]
  },
  {
   "cell_type": "code",
   "execution_count": 10,
   "id": "81b18b0f",
   "metadata": {
    "execution": {
     "iopub.execute_input": "2025-05-04T19:33:39.246135Z",
     "iopub.status.busy": "2025-05-04T19:33:39.245880Z",
     "iopub.status.idle": "2025-05-04T19:33:39.251678Z",
     "shell.execute_reply": "2025-05-04T19:33:39.250945Z"
    },
    "papermill": {
     "duration": 0.011583,
     "end_time": "2025-05-04T19:33:39.253129",
     "exception": false,
     "start_time": "2025-05-04T19:33:39.241546",
     "status": "completed"
    },
    "tags": []
   },
   "outputs": [
    {
     "name": "stdout",
     "output_type": "stream",
     "text": [
      "Lika Tom\n",
      "2 1\n",
      "Dog Cat\n",
      "Organic\n"
     ]
    }
   ],
   "source": [
    "class Animal:\n",
    "    HType=\"Organic\"\n",
    "    \n",
    "    def __init__(self, name, age, species):\n",
    "        self.name = name\n",
    "        self.age = age\n",
    "        self.species = species\n",
    "        \n",
    "animal1 = Animal(\"Lika\", 2, \"Dog\")\n",
    "animal2 = Animal(\"Tom\", 1, \"Cat\")\n",
    "\n",
    "print(animal1.name, animal2.name)\n",
    "print(animal1.age, animal2.age)\n",
    "print(animal1.species, animal2.species)\n",
    "print(Animal.HType)"
   ]
  },
  {
   "cell_type": "code",
   "execution_count": 11,
   "id": "295de2ac",
   "metadata": {
    "execution": {
     "iopub.execute_input": "2025-05-04T19:33:39.261909Z",
     "iopub.status.busy": "2025-05-04T19:33:39.261662Z",
     "iopub.status.idle": "2025-05-04T19:33:39.268764Z",
     "shell.execute_reply": "2025-05-04T19:33:39.267724Z"
    },
    "papermill": {
     "duration": 0.012922,
     "end_time": "2025-05-04T19:33:39.270058",
     "exception": false,
     "start_time": "2025-05-04T19:33:39.257136",
     "status": "completed"
    },
    "tags": []
   },
   "outputs": [
    {
     "name": "stdout",
     "output_type": "stream",
     "text": [
      "Dog's Name: Buddy\n",
      "Labrador woofs\n",
      "Dog's Name: Max\n",
      "MaxGuides the way!\n",
      "Dog's Name: Charlie\n",
      "Friendly!\n",
      "Golden Retriever Barks\n"
     ]
    }
   ],
   "source": [
    "# Single Inheritance\n",
    "class Dog:\n",
    "    def __init__(self, name):\n",
    "        self.name = name\n",
    "\n",
    "    def display_name(self):\n",
    "        print(f\"Dog's Name: {self.name}\")\n",
    "\n",
    "class Labrador(Dog):  # Single Inheritance\n",
    "    def sound(self):\n",
    "        print(\"Labrador woofs\")\n",
    "\n",
    "# Multilevel Inheritance\n",
    "class GuideDog(Labrador):  \n",
    "    def guide(self):\n",
    "        print(f\"{self.name}Guides the way!\")\n",
    "\n",
    "# Multiple Inheritance\n",
    "class Friendly:\n",
    "    def greet(self):\n",
    "        print(\"Friendly!\")\n",
    "\n",
    "class GoldenRetriever(Dog, Friendly):  # Multiple Inheritance\n",
    "    def sound(self):\n",
    "        print(\"Golden Retriever Barks\")\n",
    "\n",
    "# Example Usage\n",
    "lab = Labrador(\"Buddy\")\n",
    "lab.display_name()\n",
    "lab.sound()\n",
    "\n",
    "guide_dog = GuideDog(\"Max\")\n",
    "guide_dog.display_name()\n",
    "guide_dog.guide()\n",
    "\n",
    "retriever = GoldenRetriever(\"Charlie\")\n",
    "retriever.display_name()\n",
    "retriever.greet()\n",
    "retriever.sound()"
   ]
  },
  {
   "cell_type": "code",
   "execution_count": 12,
   "id": "e83e09f9",
   "metadata": {
    "execution": {
     "iopub.execute_input": "2025-05-04T19:33:39.279506Z",
     "iopub.status.busy": "2025-05-04T19:33:39.279210Z",
     "iopub.status.idle": "2025-05-04T19:33:39.286818Z",
     "shell.execute_reply": "2025-05-04T19:33:39.285915Z"
    },
    "papermill": {
     "duration": 0.013896,
     "end_time": "2025-05-04T19:33:39.288185",
     "exception": false,
     "start_time": "2025-05-04T19:33:39.274289",
     "status": "completed"
    },
    "tags": []
   },
   "outputs": [
    {
     "name": "stdout",
     "output_type": "stream",
     "text": [
      "Bee's Name: Sam\n",
      "\n",
      "\n",
      "Bee's Name: John\n",
      "John worker bee works.\n",
      "\n",
      "\n",
      "Laura queen bee works.\n",
      "Heen bee of age 4 is a baby.\n"
     ]
    }
   ],
   "source": [
    "class Bee:\n",
    "    def __init__(self, name):\n",
    "        self.name = name\n",
    "\n",
    "    def display_name(self):\n",
    "        print(f\"Bee's Name: {self.name}\")\n",
    "\n",
    "class WorkerBee(Bee):\n",
    "    def work(self):\n",
    "        print(f\"{self.name} worker bee works.\")\n",
    "\n",
    "class QueenBee(WorkerBee):\n",
    "    def work(self):\n",
    "        print(f\"{self.name} queen bee works.\")\n",
    "\n",
    "class Type:\n",
    "   def __init__(self, age):\n",
    "      self.age = age\n",
    "\n",
    "\n",
    "class Larva(Type, QueenBee):\n",
    "\n",
    "   def __init__(self, tag, name, age):\n",
    "       Type.__init__(self, age)\n",
    "       QueenBee.__init__(self, name)\n",
    "       self.tag = tag\n",
    "       \n",
    "    \n",
    "       \n",
    "   def work(self):\n",
    "     print(f\"{self.name} bee of age {self.age} is a baby.\")\n",
    "\n",
    "\n",
    "bee1 = Bee(\"Sam\")\n",
    "bee1.display_name()\n",
    "\n",
    "print(\"\\n\")\n",
    "\n",
    "bee2 = WorkerBee(\"John\")\n",
    "bee2.display_name()\n",
    "bee2.work()\n",
    "\n",
    "print(\"\\n\")\n",
    "\n",
    "bee3 = QueenBee(\"Laura\")\n",
    "bee3.work()\n",
    "\n",
    "bee4 = Larva(\"xt\",\"Heen\", 4)\n",
    "bee4.work()\n",
    "\n",
    "        \n",
    "    \n",
    "    "
   ]
  },
  {
   "cell_type": "code",
   "execution_count": 13,
   "id": "94e76ea9",
   "metadata": {
    "execution": {
     "iopub.execute_input": "2025-05-04T19:33:39.297186Z",
     "iopub.status.busy": "2025-05-04T19:33:39.296959Z",
     "iopub.status.idle": "2025-05-04T19:33:39.304066Z",
     "shell.execute_reply": "2025-05-04T19:33:39.303130Z"
    },
    "papermill": {
     "duration": 0.013084,
     "end_time": "2025-05-04T19:33:39.305381",
     "exception": false,
     "start_time": "2025-05-04T19:33:39.292297",
     "status": "completed"
    },
    "tags": []
   },
   "outputs": [
    {
     "name": "stdout",
     "output_type": "stream",
     "text": [
      "dog sound\n",
      "Labrador woofs\n",
      "Beagle Barks\n",
      "15\n",
      "30\n"
     ]
    }
   ],
   "source": [
    "# Parent Class\n",
    "class Dog:\n",
    "    def sound(self):\n",
    "        print(\"dog sound\")  # Default implementation\n",
    "\n",
    "# Run-Time Polymorphism: Method Overriding\n",
    "class Labrador(Dog):\n",
    "    def sound(self):\n",
    "        print(\"Labrador woofs\")  # Overriding parent method\n",
    "\n",
    "class Beagle(Dog):\n",
    "    def sound(self):\n",
    "        print(\"Beagle Barks\")  # Overriding parent method\n",
    "\n",
    "# Compile-Time Polymorphism: Method Overloading Mimic\n",
    "class Calculator:\n",
    "    def add(self, a, b=0, c=0):\n",
    "        return a + b + c  # Supports multiple ways to call add()\n",
    "\n",
    "# Run-Time Polymorphism\n",
    "dogs = [Dog(), Labrador(), Beagle()]\n",
    "for dog in dogs:\n",
    "    dog.sound()  # Calls the appropriate method based on the object type\n",
    "\n",
    "\n",
    "# Compile-Time Polymorphism (Mimicked using default arguments)\n",
    "calc = Calculator()\n",
    "print(calc.add(5, 10))  # Two arguments\n",
    "print(calc.add(5, 10, 15))  # Three arguments"
   ]
  },
  {
   "cell_type": "code",
   "execution_count": 14,
   "id": "cd0053ea",
   "metadata": {
    "execution": {
     "iopub.execute_input": "2025-05-04T19:33:39.314802Z",
     "iopub.status.busy": "2025-05-04T19:33:39.314101Z",
     "iopub.status.idle": "2025-05-04T19:33:39.320990Z",
     "shell.execute_reply": "2025-05-04T19:33:39.320110Z"
    },
    "papermill": {
     "duration": 0.012707,
     "end_time": "2025-05-04T19:33:39.322188",
     "exception": false,
     "start_time": "2025-05-04T19:33:39.309481",
     "status": "completed"
    },
    "tags": []
   },
   "outputs": [
    {
     "name": "stdout",
     "output_type": "stream",
     "text": [
      "Buddy\n",
      "Labrador\n",
      "3\n",
      "Name: Buddy, Breed: Labrador, Age: 5\n"
     ]
    }
   ],
   "source": [
    "class Dog:\n",
    "    def __init__(self, name, breed, age):\n",
    "        self.name = name  # Public attribute\n",
    "        self._breed = breed  # Protected attribute\n",
    "        self.__age = age  # Private attribute\n",
    "\n",
    "    # Public method\n",
    "    def get_info(self):\n",
    "        return f\"Name: {self.name}, Breed: {self._breed}, Age: {self.__age}\"\n",
    "\n",
    "    # Getter and Setter for private attribute\n",
    "    def get_age(self):\n",
    "        return self.__age\n",
    "\n",
    "    def set_age(self, age):\n",
    "        if age > 0:\n",
    "            self.__age = age\n",
    "        else:\n",
    "            print(\"Invalid age!\")\n",
    "\n",
    "# Example Usage\n",
    "dog = Dog(\"Buddy\", \"Labrador\", 3)\n",
    "\n",
    "# Accessing public member\n",
    "print(dog.name)  # Accessible\n",
    "\n",
    "# Accessing protected member\n",
    "print(dog._breed)  # Accessible but discouraged outside the class\n",
    "\n",
    "# Accessing private member using getter\n",
    "print(dog.get_age())\n",
    "\n",
    "# Modifying private member using setter\n",
    "dog.set_age(5)\n",
    "print(dog.get_info())"
   ]
  },
  {
   "cell_type": "code",
   "execution_count": 15,
   "id": "bff74886",
   "metadata": {
    "execution": {
     "iopub.execute_input": "2025-05-04T19:33:39.331232Z",
     "iopub.status.busy": "2025-05-04T19:33:39.330982Z",
     "iopub.status.idle": "2025-05-04T19:33:39.336994Z",
     "shell.execute_reply": "2025-05-04T19:33:39.336233Z"
    },
    "papermill": {
     "duration": 0.012023,
     "end_time": "2025-05-04T19:33:39.338318",
     "exception": false,
     "start_time": "2025-05-04T19:33:39.326295",
     "status": "completed"
    },
    "tags": []
   },
   "outputs": [
    {
     "name": "stdout",
     "output_type": "stream",
     "text": [
      "Dog's Name: Buddy\n",
      "Labrador Woof!\n",
      "Dog's Name: Charlie\n",
      "Beagle Bark!\n"
     ]
    }
   ],
   "source": [
    "from abc import ABC, abstractmethod\n",
    "\n",
    "class Dog(ABC):  # Abstract Class\n",
    "    def __init__(self, name):\n",
    "        self.name = name\n",
    "\n",
    "    @abstractmethod\n",
    "    def sound(self):  # Abstract Method\n",
    "        pass\n",
    "\n",
    "    def display_name(self):  # Concrete Method\n",
    "        print(f\"Dog's Name: {self.name}\")\n",
    "\n",
    "class Labrador(Dog):  # Partial Abstraction\n",
    "    def sound(self):\n",
    "        print(\"Labrador Woof!\")\n",
    "\n",
    "class Beagle(Dog):  # Partial Abstraction\n",
    "    def sound(self):\n",
    "        print(\"Beagle Bark!\")\n",
    "\n",
    "# Example Usage\n",
    "dogs = [Labrador(\"Buddy\"), Beagle(\"Charlie\")]\n",
    "for dog in dogs:\n",
    "    dog.display_name()  # Calls concrete method\n",
    "    dog.sound()  # Calls implemented abstract method"
   ]
  }
 ],
 "metadata": {
  "kaggle": {
   "accelerator": "none",
   "dataSources": [],
   "dockerImageVersionId": 31012,
   "isGpuEnabled": false,
   "isInternetEnabled": true,
   "language": "python",
   "sourceType": "notebook"
  },
  "kernelspec": {
   "display_name": "Python 3",
   "language": "python",
   "name": "python3"
  },
  "language_info": {
   "codemirror_mode": {
    "name": "ipython",
    "version": 3
   },
   "file_extension": ".py",
   "mimetype": "text/x-python",
   "name": "python",
   "nbconvert_exporter": "python",
   "pygments_lexer": "ipython3",
   "version": "3.11.11"
  },
  "papermill": {
   "default_parameters": {},
   "duration": 5.185157,
   "end_time": "2025-05-04T19:33:39.760549",
   "environment_variables": {},
   "exception": null,
   "input_path": "__notebook__.ipynb",
   "output_path": "__notebook__.ipynb",
   "parameters": {},
   "start_time": "2025-05-04T19:33:34.575392",
   "version": "2.6.0"
  }
 },
 "nbformat": 4,
 "nbformat_minor": 5
}
